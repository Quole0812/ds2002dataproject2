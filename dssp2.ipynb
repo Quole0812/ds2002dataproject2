{
  "nbformat": 4,
  "nbformat_minor": 0,
  "metadata": {
    "colab": {
      "provenance": []
    },
    "kernelspec": {
      "name": "python3",
      "display_name": "Python 3"
    },
    "language_info": {
      "name": "python"
    }
  },
  "cells": [
    {
      "cell_type": "code",
      "execution_count": 4,
      "metadata": {
        "id": "B0FWnwYRhWA5"
      },
      "outputs": [],
      "source": [
        "import sqlite3\n",
        "import pandas as pd\n",
        "\n",
        "df = pd.read_csv(\"cleanedRecipes.csv\")\n",
        "conn = sqlite3.connect(\"local_data.db\")\n",
        "df.to_sql(\"chatbot_data\", conn, if_exists=\"replace\", index=False)\n",
        "conn.close()\n",
        "\n",
        "def get_local_data(query_param):\n",
        "    conn = sqlite3.connect(\"local_data.db\")\n",
        "    cursor = conn.cursor()\n",
        "    cursor.execute(\"SELECT * FROM chatbot_data WHERE Recipe = ?\", (query_param,))\n",
        "    result = cursor.fetchall()\n",
        "    conn.close()\n",
        "\n",
        "    if result:\n",
        "        return result\n",
        "    else:\n",
        "        return \"No matching data found.\"\n"
      ]
    },
    {
      "cell_type": "code",
      "source": [
        "print(get_local_data(\"Spicy Kimchi Fried Rice\"))"
      ],
      "metadata": {
        "colab": {
          "base_uri": "https://localhost:8080/"
        },
        "id": "2I_pGok4k4Fo",
        "outputId": "d9524821-704a-4b05-c9fd-776fbb8e6e5c"
      },
      "execution_count": 6,
      "outputs": [
        {
          "output_type": "stream",
          "name": "stdout",
          "text": [
            "[('Spicy Kimchi Fried Rice', 'Korean', \"['Cooked rice', 'Kimchi', 'Gochujang', 'Soy sauce', 'Sesame oil', 'Onion', 'Garlic', 'Egg', 'Scallions', 'Vegetable oil']\", 25, 15, 2.0, 450.0, \"['vegetarian']\", 40, 10, 'Medium')]\n"
          ]
        }
      ]
    }
  ]
}